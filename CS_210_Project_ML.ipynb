{
  "cells": [
    {
      "cell_type": "markdown",
      "source": [
        "# Cleaning The Data"
      ],
      "metadata": {
        "id": "tEOB9C7gbnW0"
      }
    },
    {
      "cell_type": "code",
      "execution_count": 1,
      "metadata": {
        "id": "GMNBx_90EZFA"
      },
      "outputs": [],
      "source": [
        "import pandas as pd\n",
        "import numpy as np\n",
        "import matplotlib.pyplot as plt\n",
        "import seaborn as sns"
      ]
    },
    {
      "cell_type": "markdown",
      "source": [
        "**Cleaning for Education Staus-Cigarette Consumption behaviour data**"
      ],
      "metadata": {
        "id": "zXEs2bp1by5Y"
      }
    },
    {
      "cell_type": "code",
      "execution_count": 2,
      "metadata": {
        "colab": {
          "base_uri": "https://localhost:8080/"
        },
        "id": "xWUzuIPTEZFE",
        "outputId": "2c5ff547-a0df-4e82-ec2d-f5db76cc3046"
      },
      "outputs": [
        {
          "output_type": "stream",
          "name": "stdout",
          "text": [
            "      year      money\n",
            "57  2002.0   60566143\n",
            "58  2003.0   89113656\n",
            "59  2004.0  105165229\n",
            "60  2005.0  130994187\n",
            "61  2006.0  136859061\n",
            "62  2007.0  178664066\n",
            "63  2008.0  224152855\n",
            "64  2009.0  213233907\n",
            "65  2010.0  260541101\n",
            "66  2011.0  302151239\n",
            "67  2012.0  348504850\n",
            "68  2013.0  395271166\n",
            "69  2014.0  427533740\n",
            "70  2015.0  495692911\n",
            "71  2016.0  587350862\n",
            "72  2017.0  712626071\n",
            "73  2018.0  757003055\n",
            "74  2019.0  865154972\n"
          ]
        }
      ],
      "source": [
        "\n",
        "#  Load the xls file\n",
        "file_name = \"egitim_tutun_durum.xls\" \n",
        "df = pd.read_excel(file_name)\n",
        "\n",
        "\n",
        "\n",
        "# List of column names you are interested in\n",
        "df=df.iloc[2:,2:4]\n",
        "new_columns = ['year', \"money\"]  \n",
        "\n",
        "df.columns = new_columns\n",
        "\n",
        "egitim_tutun_durum = {f'df_{i//18}': df[i+1:i+19] for i in range(0,df.shape[0],18)}\n",
        "\n",
        "print(egitim_tutun_durum['df_3'])\n"
      ]
    },
    {
      "cell_type": "markdown",
      "source": [
        " **Cleaning for The Percentage of the Cigarette Consumers data**"
      ],
      "metadata": {
        "id": "dkGd1piwcBGR"
      }
    },
    {
      "cell_type": "code",
      "execution_count": 3,
      "metadata": {
        "colab": {
          "base_uri": "https://localhost:8080/"
        },
        "id": "HswPiRIGEZFG",
        "outputId": "51a2f714-48ed-4ccb-d892-cfe03b604a89"
      },
      "outputs": [
        {
          "output_type": "stream",
          "name": "stdout",
          "text": [
            "   year      ratio\n",
            "4  2010  29.505455\n"
          ]
        }
      ],
      "source": [
        "\n",
        "#  Load the xls file\n",
        "file_name = \"tutun_kulanan_kisi_sayis_yuzdesi.xls\"\n",
        "df = pd.read_excel(file_name)\n",
        "\n",
        "\n",
        "# List of column names you are interested in\n",
        "df=df.iloc[0:,0:2]\n",
        "new_columns = ['year', \"ratio\"]  \n",
        "\n",
        "df.columns = new_columns\n",
        "\n",
        "\n",
        "tutun_kulanan_kisi_sayis_yuzdesi = {f'df_{i//1}': df[i+4:i+5] for i in range(0,df.shape[0],1)}\n",
        "\n",
        "print(tutun_kulanan_kisi_sayis_yuzdesi['df_0'])\n"
      ]
    },
    {
      "cell_type": "markdown",
      "source": [
        "**Cleaning for Education Status and Poverty risk data**"
      ],
      "metadata": {
        "id": "k6mPDi7jcK_k"
      }
    },
    {
      "cell_type": "code",
      "execution_count": 4,
      "metadata": {
        "colab": {
          "base_uri": "https://localhost:8080/"
        },
        "id": "9y3JiXeLEZFH",
        "outputId": "792fe24e-2c44-408a-9d0a-690ddf2f817a"
      },
      "outputs": [
        {
          "output_type": "stream",
          "name": "stdout",
          "text": [
            "       year people(bin)\n",
            "88   2006.0      1327.1\n",
            "89   2007.0     1263.45\n",
            "90   2008.0     1301.55\n",
            "91   2009.0     1442.13\n",
            "92   2010.0     1471.39\n",
            "93   2011.0     1420.04\n",
            "94   2012.0     1354.71\n",
            "95   2013.0      1324.2\n",
            "96   2014.0     1417.84\n",
            "97   2015.0        1375\n",
            "98   2016.0        1290\n",
            "99   2017.0        1200\n",
            "100  2018.0        1275\n",
            "101  2019.0        1230\n",
            "102  2020.0     1288.57\n",
            "103  2021.0     1202.07\n",
            "104  2022.0     1192.33\n"
          ]
        }
      ],
      "source": [
        "\n",
        "#  Load the xls file\n",
        "file_name = \"egitim_durmu_yoksuluk_riski.xls\"\n",
        "df = pd.read_excel(file_name)\n",
        "\n",
        "new_columns = ['year', \"people(bin)\"]  \n",
        "# List of column names you are interested in\n",
        "df=df.iloc[2:,2:4]\n",
        "new_columns = ['year', \"people(bin)\"]  \n",
        "\n",
        "df.columns = new_columns\n",
        "\n",
        "egitim_durmu_yoksuluk_riski = {f'df_{i//17}': df[i+1:i+18] for i in range(0,df.shape[0],17)}\n",
        "\n",
        "print(egitim_durmu_yoksuluk_riski['df_5'])"
      ]
    },
    {
      "cell_type": "markdown",
      "source": [
        "**Cleaning for Education Household size data**"
      ],
      "metadata": {
        "id": "qSZQKsxJcV2_"
      }
    },
    {
      "cell_type": "code",
      "execution_count": 5,
      "metadata": {
        "colab": {
          "base_uri": "https://localhost:8080/"
        },
        "id": "DVRcjitqEZFI",
        "outputId": "2ec1b31c-1659-4790-98b4-6ee303f4303a"
      },
      "outputs": [
        {
          "output_type": "stream",
          "name": "stdout",
          "text": [
            "      year       money\n",
            "57  2002.0   109815135\n",
            "58  2003.0   135090058\n",
            "59  2004.0   180466272\n",
            "60  2005.0   210025625\n",
            "61  2006.0   256231394\n",
            "62  2007.0   280797406\n",
            "63  2008.0   316767619\n",
            "64  2009.0   339168271\n",
            "65  2010.0   408539191\n",
            "66  2011.0   460918644\n",
            "67  2012.0   543834490\n",
            "68  2013.0   613934071\n",
            "69  2014.0   606507731\n",
            "70  2015.0   616767717\n",
            "71  2016.0   736153440\n",
            "72  2017.0   899941107\n",
            "73  2018.0   900530615\n",
            "74  2019.0  1129205204\n"
          ]
        }
      ],
      "source": [
        "\n",
        "#  Load the xls file\n",
        "file_name = \"hane_halki_buyukluğu.xls\" \n",
        "df = pd.read_excel(file_name)\n",
        "\n",
        "\n",
        "\n",
        "# List of column names you are interested in\n",
        "df=df.iloc[2:,2:4]\n",
        "new_columns = ['year', \"money\"]  \n",
        "\n",
        "df.columns = new_columns\n",
        "\n",
        "\n",
        "hane_halki_buyukluğu = {f'df_{i//18}': df[i+1:i+19] for i in range(0,df.shape[0],18)}\n",
        "\n",
        "print(hane_halki_buyukluğu['df_3'])\n"
      ]
    },
    {
      "cell_type": "markdown",
      "source": [
        "**Cleaning for the Household size and the poverty risk data**"
      ],
      "metadata": {
        "id": "QkH8dNX5cfwl"
      }
    },
    {
      "cell_type": "code",
      "execution_count": 6,
      "metadata": {
        "colab": {
          "base_uri": "https://localhost:8080/"
        },
        "id": "M0TxqjbLEZFJ",
        "outputId": "512b436a-ca34-4768-a5d2-cffec0efdd26"
      },
      "outputs": [
        {
          "output_type": "stream",
          "name": "stdout",
          "text": [
            "      year People(bin)\n",
            "20  2006.0        5233\n",
            "21  2007.0        5022\n",
            "22  2008.0        5219\n",
            "23  2009.0        5098\n",
            "24  2010.0        5320\n",
            "25  2011.0        5348\n",
            "26  2012.0        5239\n",
            "27  2013.0        5009\n",
            "28  2014.0        5259\n",
            "29  2015.0        5074\n",
            "30  2016.0        4947\n",
            "31  2017.0        4308\n",
            "32  2018.0        4380\n",
            "33  2019.0        4572\n",
            "34  2020.0     4199.99\n",
            "35  2021.0     3734.41\n",
            "36  2022.0     3810.18\n"
          ]
        }
      ],
      "source": [
        "\n",
        "#  Load the xls file\n",
        "file_name = \"hane_halki_buyukluğu_yoksuluk_riski.xls\" \n",
        "df = pd.read_excel(file_name)\n",
        "\n",
        "\n",
        "\n",
        "# List of column names you are interested in\n",
        "df=df.iloc[2:,2:4]\n",
        "new_columns = ['year', \"People(bin)\"]  \n",
        "\n",
        "df.columns = new_columns\n",
        "\n",
        "hane_halki_buyukluğu_yoksuluk_riski = {f'df_{i//17}': df[i+1:i+18] for i in range(0,df.shape[0],17)}\n",
        "\n",
        "print(hane_halki_buyukluğu_yoksuluk_riski['df_1'])"
      ]
    },
    {
      "cell_type": "markdown",
      "source": [
        "** Cleaning for Job status vs Cigarette consumption data**"
      ],
      "metadata": {
        "id": "8h0S2vA-cohu"
      }
    },
    {
      "cell_type": "code",
      "execution_count": 7,
      "metadata": {
        "colab": {
          "base_uri": "https://localhost:8080/"
        },
        "id": "-T5mSzkQEZFJ",
        "outputId": "c1adf29d-9605-4a7a-aaed-22f6e4695145"
      },
      "outputs": [
        {
          "output_type": "stream",
          "name": "stdout",
          "text": [
            "    Unnamed: 2 Sütunlar\n",
            "48      2014.0       23\n",
            "49      2015.0       27\n",
            "50      2016.0       25\n",
            "51      2017.0       28\n",
            "52      2018.0       28\n",
            "53      2019.0       24\n",
            "54      2020.0       21\n",
            "55      2021.0       35\n",
            "56      2022.0       31\n"
          ]
        }
      ],
      "source": [
        "\n",
        "#  Load the xls file\n",
        "file_name = \"ise_gore.xls\"\n",
        "df = pd.read_excel(file_name)\n",
        "\n",
        "\n",
        "\n",
        "# List of column names you are interested in\n",
        "df=df.iloc[2:,2:4]\n",
        "\n",
        "\n",
        "ise_gore = {f'df_{i//9}': df[i+1:i+10] for i in range(0,df.shape[0],9)}\n",
        "\n",
        "print(ise_gore['df_5'])"
      ]
    },
    {
      "cell_type": "code",
      "execution_count": 8,
      "metadata": {
        "colab": {
          "base_uri": "https://localhost:8080/"
        },
        "id": "xQUH9YPuEZFK",
        "outputId": "3547b06a-794e-4119-bac9-dc7d5b39ac36"
      },
      "outputs": [
        {
          "output_type": "stream",
          "name": "stdout",
          "text": [
            "      year people(bin)\n",
            "3   2014.0        2853\n",
            "4   2015.0        3057\n",
            "5   2016.0        3330\n",
            "6   2017.0        3454\n",
            "7   2018.0        3537\n",
            "8   2019.0        4469\n",
            "9   2020.0        4061\n",
            "10  2021.0        3919\n",
            "11  2022.0        3582\n"
          ]
        }
      ],
      "source": [
        "\n",
        "#  Load the xls file\n",
        "file_name = \"issiz.xls\"\n",
        "df = pd.read_excel(file_name)\n",
        "\n",
        "\n",
        "\n",
        "# List of column names you are interested in\n",
        "df=df.iloc[2:,2:4]\n",
        "new_columns = ['year', \"people(bin)\"] \n",
        "\n",
        "df.columns = new_columns\n",
        "\n",
        "\n",
        "\n",
        "issiz= {f'df_{i//9}': df[i+1:i+10] for i in range(0,df.shape[0],9)}\n",
        "\n",
        "print(issiz['df_0'])"
      ]
    },
    {
      "cell_type": "code",
      "execution_count": 9,
      "metadata": {
        "colab": {
          "base_uri": "https://localhost:8080/"
        },
        "id": "MaOTf2v1EZFL",
        "outputId": "6ffde86c-74e4-438d-e1bc-fb4fcd0e5f20"
      },
      "outputs": [
        {
          "output_type": "stream",
          "name": "stdout",
          "text": [
            "       year     money\n",
            "93   2005.0   2327770\n",
            "94   2006.0   1451719\n",
            "95   2007.0   1441416\n",
            "96   2008.0   5551430\n",
            "97   2009.0  13718971\n",
            "98   2010.0   8808603\n",
            "99   2011.0  11148544\n",
            "100  2012.0  11067541\n",
            "101  2013.0  14169730\n",
            "102  2014.0  10824467\n",
            "103  2015.0  10711844\n",
            "104  2016.0   6581596\n",
            "105  2017.0  11294259\n",
            "106  2018.0   8624787\n",
            "107  2019.0  33298671\n"
          ]
        }
      ],
      "source": [
        "\n",
        "#  Load the xls file\n",
        "file_name = \"isteki_durumu.xls\" \n",
        "df = pd.read_excel(file_name)\n",
        "\n",
        "\n",
        "\n",
        "# List of column names you are interested in\n",
        "df=df.iloc[2:,2:4]\n",
        "new_columns = ['year', \"money\"]  \n",
        "\n",
        "df.columns = new_columns\n",
        "\n",
        "\n",
        "\n",
        "isteki_durumu = {f'df_{i//18}': df[i+1:i+19] for i in range(0,df.shape[0],18)}\n",
        "\n",
        "print(isteki_durumu['df_5'])\n"
      ]
    },
    {
      "cell_type": "markdown",
      "source": [
        "**Cleaning for the income data**"
      ],
      "metadata": {
        "id": "m37eSm5Kc_T8"
      }
    },
    {
      "cell_type": "code",
      "execution_count": 10,
      "metadata": {
        "colab": {
          "base_uri": "https://localhost:8080/"
        },
        "id": "ua50WYPyEZFL",
        "outputId": "6d4fc795-6791-4f6b-addd-89f9a86e4582"
      },
      "outputs": [
        {
          "output_type": "stream",
          "name": "stdout",
          "text": [
            "      year       money\n",
            "57  2002.0    90774691\n",
            "58  2003.0   111266715\n",
            "59  2004.0   143155175\n",
            "60  2005.0   160529006\n",
            "61  2006.0   197999839\n",
            "62  2007.0   219983508\n",
            "63  2008.0   228895814\n",
            "64  2009.0   272921970\n",
            "65  2010.0   339480895\n",
            "66  2011.0   370379194\n",
            "67  2012.0   433832425\n",
            "68  2013.0   531437045\n",
            "69  2014.0   602600782\n",
            "70  2015.0   636257257\n",
            "71  2016.0   769573127\n",
            "72  2017.0   875650070\n",
            "73  2018.0   938963322\n",
            "74  2019.0  1172930246\n"
          ]
        }
      ],
      "source": [
        "\n",
        "#  Load the xls file\n",
        "file_name = \"yuzdelik_gelir.xls\" \n",
        "df = pd.read_excel(file_name)\n",
        "\n",
        "\n",
        "\n",
        "# List of column names you are interested in\n",
        "df=df.iloc[2:,2:4]\n",
        "new_columns = ['year', \"money\"]  \n",
        "\n",
        "df.columns = new_columns\n",
        "\n",
        "\n",
        "\n",
        "\n",
        "yuzdelik_gelir = {f'df_{i//18}': df[i+1:i+19] for i in range(0,df.shape[0],18)}\n",
        "\n",
        "print(yuzdelik_gelir['df_3'])\n"
      ]
    },
    {
      "cell_type": "markdown",
      "source": [
        "**Cleaning for the prices of the cigarettes per year and month data**"
      ],
      "metadata": {
        "id": "6Ui-PGSrdFQN"
      }
    },
    {
      "cell_type": "code",
      "execution_count": 11,
      "metadata": {
        "colab": {
          "base_uri": "https://localhost:8080/"
        },
        "id": "QgL5le9dEZFM",
        "outputId": "5702e74b-91bb-4642-e1d0-b9b82a6ddbf3"
      },
      "outputs": [
        {
          "output_type": "stream",
          "name": "stdout",
          "text": [
            "      year  january february    march    april      may     june     july  \\\n",
            "11  2021.0  15.5156  15.5177  15.5199  15.6324  15.6324  15.6324  15.6324   \n",
            "\n",
            "      agust september  october november december  \n",
            "11  15.6324   15.6324  16.6303  16.6303  18.6067  \n"
          ]
        }
      ],
      "source": [
        "\n",
        "#  Load the xls file\n",
        "file_name = \"sigara_fiyatlari.xls\"\n",
        "df = pd.read_excel(file_name)\n",
        "\n",
        "\n",
        "\n",
        "# List of column names you are interested in\n",
        "df=df.iloc[2:,2:15]\n",
        "new_columns = ['year', \"january\",\"february\",\"march\",\"april\",\"may\",\"june\",\"july\",\"agust\",\"september\",\"october\",\"november\",\"december\"] \n",
        "\n",
        "df.columns = new_columns\n",
        "\n",
        "\n",
        "\n",
        "sigara_fiyatlari = {f'df_{i//1}': df[i+1:i+2] for i in range(0,df.shape[0],1)}\n",
        "\n",
        "print(sigara_fiyatlari['df_8'])\n"
      ]
    },
    {
      "cell_type": "markdown",
      "source": [
        "**Cleaning for the room number in the households**"
      ],
      "metadata": {
        "id": "zfPNVAU9dPZT"
      }
    },
    {
      "cell_type": "code",
      "source": [
        "#  Load the xls file\n",
        "file_name = \"oda_sayisi.xls\"\n",
        "df = pd.read_excel(file_name)\n",
        "\n",
        "\n",
        "\n",
        "# List of column names you are interested in\n",
        "df=df.iloc[2:,2:4]\n",
        "new_columns = ['year', \"money\"]  \n",
        "\n",
        "df.columns = new_columns\n",
        "\n",
        "\n",
        "\n",
        "\n",
        "oda_sayisi = {f'df_{i//18}': df[i+1:i+19] for i in range(0,df.shape[0],18)}\n",
        "\n",
        "print(oda_sayisi['df_3'])"
      ],
      "metadata": {
        "colab": {
          "base_uri": "https://localhost:8080/"
        },
        "id": "O2fQn64LEnZE",
        "outputId": "20da889d-e228-48a8-d976-e88e9b5f3a5b"
      },
      "execution_count": 12,
      "outputs": [
        {
          "output_type": "stream",
          "name": "stdout",
          "text": [
            "      year       money\n",
            "57  2002.0   155063308\n",
            "58  2003.0   205009162\n",
            "59  2004.0   271222463\n",
            "60  2005.0   336512508\n",
            "61  2006.0   395453781\n",
            "62  2007.0   436624862\n",
            "63  2008.0   487292717\n",
            "64  2009.0   547715378\n",
            "65  2010.0   707001701\n",
            "66  2011.0   700962736\n",
            "67  2012.0   864284654\n",
            "68  2013.0   943735526\n",
            "69  2014.0  1149249261\n",
            "70  2015.0  1241911602\n",
            "71  2016.0  1457036600\n",
            "72  2017.0  1717738265\n",
            "73  2018.0  1876417902\n",
            "74  2019.0  2261605246\n"
          ]
        }
      ]
    },
    {
      "cell_type": "markdown",
      "source": [
        "**Cleaning for the age of the household member in charge data**"
      ],
      "metadata": {
        "id": "WQlD2Fr4da7o"
      }
    },
    {
      "cell_type": "code",
      "source": [
        "#  Load the xls file\n",
        "file_name = \"hane_halki_sorumlsunun_yaşina_göre.xls\" \n",
        "df = pd.read_excel(file_name)\n",
        "\n",
        "\n",
        "\n",
        "# List of column names you are interested in\n",
        "df=df.iloc[2:,2:4]\n",
        "new_columns = ['year', \"money\"] \n",
        "\n",
        "df.columns = new_columns\n",
        "\n",
        "\n",
        "\n",
        "\n",
        "hane_halki_sorumlsunun_yaşina_göre = {f'df_{i//18}': df[i+1:i+19] for i in range(0,df.shape[0],18)}\n",
        "\n",
        "print(hane_halki_sorumlsunun_yaşina_göre['df_2'])"
      ],
      "metadata": {
        "colab": {
          "base_uri": "https://localhost:8080/"
        },
        "id": "GFQDwfbbE5Il",
        "outputId": "07597c47-f944-4ea4-e49b-b032069f64f1"
      },
      "execution_count": 13,
      "outputs": [
        {
          "output_type": "stream",
          "name": "stdout",
          "text": [
            "      year       money\n",
            "39  2002.0   154972984\n",
            "40  2003.0   199421478\n",
            "41  2004.0   276424681\n",
            "42  2005.0   329313992\n",
            "43  2006.0   380513174\n",
            "44  2007.0   431789391\n",
            "45  2008.0   468175919\n",
            "46  2009.0   541542950\n",
            "47  2010.0   676134305\n",
            "48  2011.0   715695709\n",
            "49  2012.0   861304490\n",
            "50  2013.0   975712703\n",
            "51  2014.0  1137312489\n",
            "52  2015.0  1220281825\n",
            "53  2016.0  1479312026\n",
            "54  2017.0  1763884929\n",
            "55  2018.0  1852418266\n",
            "56  2019.0  2337608256\n"
          ]
        }
      ]
    },
    {
      "cell_type": "markdown",
      "source": [
        "**Cleaning the type of home ownership data**"
      ],
      "metadata": {
        "id": "nn641kBWdmE7"
      }
    },
    {
      "cell_type": "code",
      "source": [
        "#  Load the xls file\n",
        "file_name = \"konutsahipliği.xls\" \n",
        "df = pd.read_excel(file_name)\n",
        "\n",
        "\n",
        "\n",
        "# List of column names you are interested in\n",
        "df=df.iloc[2:,2:4]\n",
        "new_columns = ['year', \"money\"] \n",
        "\n",
        "df.columns = new_columns\n",
        "\n",
        "\n",
        "\n",
        "\n",
        "konutsahipliği = {f'df_{i//18}': df[i+1:i+19] for i in range(0,df.shape[0],18)}\n",
        "\n",
        "print(konutsahipliği ['df_2'])"
      ],
      "metadata": {
        "colab": {
          "base_uri": "https://localhost:8080/"
        },
        "id": "qr2JuB-2FC9b",
        "outputId": "02423f80-6c51-4846-ff4b-886b5eed3ee1"
      },
      "execution_count": 14,
      "outputs": [
        {
          "output_type": "stream",
          "name": "stdout",
          "text": [
            "      year     money\n",
            "39  2002.0   8127750\n",
            "40  2003.0   7684723\n",
            "41  2004.0   5218812\n",
            "42  2005.0   5444695\n",
            "43  2006.0   7806697\n",
            "44  2007.0   9062875\n",
            "45  2008.0  10438832\n",
            "46  2009.0  19690097\n",
            "47  2010.0  23305827\n",
            "48  2011.0  28231536\n",
            "49  2012.0  36478250\n",
            "50  2013.0  40396825\n",
            "51  2014.0  36909475\n",
            "52  2015.0  33159061\n",
            "53  2016.0  51614166\n",
            "54  2017.0  46900645\n",
            "55  2018.0  58557180\n",
            "56  2019.0  73014797\n"
          ]
        }
      ]
    },
    {
      "cell_type": "markdown",
      "source": [
        "**Cleaning for the number of children in the family data**"
      ],
      "metadata": {
        "id": "kMNy0vkedtQ0"
      }
    },
    {
      "cell_type": "code",
      "source": [
        "#  Load the xls file\n",
        "file_name = \"ailenin_çocuk_sayisi.xls\" \n",
        "df = pd.read_excel(file_name)\n",
        "\n",
        "\n",
        "\n",
        "# List of column names you are interested in\n",
        "df=df.iloc[2:,2:4]\n",
        "new_columns = ['year', \"money\"]  \n",
        "\n",
        "df.columns = new_columns\n",
        "\n",
        "\n",
        "\n",
        "ailenin_çocuk_sayisi= {f'df_{i//18}': df[i+1:i+19] for i in range(0,df.shape[0],18)}\n",
        "\n",
        "print(ailenin_çocuk_sayisi ['df_2'])"
      ],
      "metadata": {
        "colab": {
          "base_uri": "https://localhost:8080/"
        },
        "id": "ShHm9yznFDLe",
        "outputId": "267f9bc9-a47d-45ce-c65b-54e99fdf61e7"
      },
      "execution_count": 15,
      "outputs": [
        {
          "output_type": "stream",
          "name": "stdout",
          "text": [
            "      year       money\n",
            "39  2002.0   189563159\n",
            "40  2003.0   186752458\n",
            "41  2004.0   340884441\n",
            "42  2005.0   402844575\n",
            "43  2006.0   452791888\n",
            "44  2007.0   505239041\n",
            "45  2008.0   564939285\n",
            "46  2009.0   674721568\n",
            "47  2010.0   868563266\n",
            "48  2011.0   897678646\n",
            "49  2012.0  1075427636\n",
            "50  2013.0  1234421576\n",
            "51  2014.0  1298733979\n",
            "52  2015.0  1389860035\n",
            "53  2016.0  1651769852\n",
            "54  2017.0  1997013730\n",
            "55  2018.0  2106645758\n",
            "56  2019.0  2492670294\n"
          ]
        }
      ]
    },
    {
      "cell_type": "markdown",
      "source": [
        "# Hypothesis Testing"
      ],
      "metadata": {
        "id": "0VpEwBZWXLQx"
      }
    },
    {
      "cell_type": "markdown",
      "source": [
        "Our null hypothesis, which we want to reject is: \"The socio-economic conditions does not affect the cigarette consumption behaviour.\"\n",
        "And the Alternative test will be: \"The socio-economic conditions affect the cigarette consumption behaviour.\""
      ],
      "metadata": {
        "id": "Uqg23rvHf66H"
      }
    },
    {
      "cell_type": "markdown",
      "source": [
        "# Train the data for the lower level of socio-economic class"
      ],
      "metadata": {
        "id": "pMA44MF4dy_h"
      }
    },
    {
      "cell_type": "code",
      "source": [
        "import pandas as pd\n",
        "import matplotlib.pyplot as plt\n",
        "from sklearn.linear_model import LinearRegression\n",
        "from sklearn.metrics import mean_squared_error\n",
        "\n",
        "# data frames\n",
        "df_0 = egitim_tutun_durum['df_0']\n",
        "df_7 = egitim_tutun_durum['df_1']\n",
        "df_8 = egitim_tutun_durum['df_2']\n",
        "df_1 = isteki_durumu['df_0']\n",
        "df_2 = yuzdelik_gelir['df_0']\n",
        "df_9 = yuzdelik_gelir['df_1']\n",
        "df_3 = oda_sayisi['df_0']\n",
        "df_4 = hane_halki_sorumlsunun_yaşina_göre['df_0']\n",
        "df_5 = ailenin_çocuk_sayisi['df_4']\n",
        "df_6 = hane_halki_buyukluğu['df_5']\n",
        "\n",
        "df_5 = egitim_tutun_durum['df_4']\n",
        "#combining data frames\n",
        "df_combined = pd.concat([df_0, df_1, df_2, df_3, df_4,df_6,df_7,df_8,df_9])\n",
        "\n",
        "# setting the X Y values\n",
        "X = df_5['year'].values.reshape(-1, 1)\n",
        "y = df_5['money'].values.reshape(-1, 1)\n",
        "\n",
        "# creating the linear regression model\n",
        "regressor = LinearRegression()\n",
        "regressor.fit(X, y)\n",
        "\n",
        "# making the predicitons\n",
        "y_pred = regressor.predict(X)\n",
        "\n",
        "# plotting the graph\n",
        "plt.scatter(X, y, label='Data')\n",
        "plt.plot(X, y_pred, color='red', linewidth=2)\n",
        "\n",
        "plt.xlabel('Year')\n",
        "plt.ylabel('Money')\n",
        "plt.title('Linear Regression Model for the lower socioeconomic level')\n",
        "\n",
        "# removing fractional values\n",
        "plt.xticks([int(x) for x in plt.xticks()[0]])\n",
        "\n",
        "plt.legend()\n",
        "plt.show()\n",
        "\n",
        "\n",
        "\n",
        "mse = mean_squared_error(y, y_pred)\n",
        "\n",
        "\n",
        "# Normalized MSE calculation\n",
        "variance = y.var()\n",
        "normalized_mse = mse / variance\n",
        "print(\"Normalized MSE calculation\", normalized_mse)"
      ],
      "metadata": {
        "colab": {
          "base_uri": "https://localhost:8080/",
          "height": 504
        },
        "id": "A_swGzZsFm5B",
        "outputId": "8705523e-2697-4e31-d6f0-23d1fb0e2e63"
      },
      "execution_count": 23,
      "outputs": [
        {
          "output_type": "display_data",
          "data": {
            "text/plain": [
              "<Figure size 640x480 with 1 Axes>"
            ],
            "image/png": "[encoded data removed]"
          },
          "metadata": {}
        },
        {
          "output_type": "stream",
          "name": "stdout",
          "text": [
            "Normalized MSE calculation 0.1490479717988151\n"
          ]
        }
      ]
    },
    {
      "cell_type": "code",
      "source": [
        "import pandas as pd\n",
        "import matplotlib.pyplot as plt\n",
        "from sklearn.linear_model import LinearRegression\n",
        "from sklearn.metrics import mean_squared_error\n",
        "\n",
        "# data frames\n",
        "df_0 = egitim_tutun_durum['df_0']\n",
        "df_7 = egitim_tutun_durum['df_1']\n",
        "df_8 = egitim_tutun_durum['df_2']\n",
        "df_1 = isteki_durumu['df_0']\n",
        "df_2 = yuzdelik_gelir['df_0']\n",
        "df_9 = yuzdelik_gelir['df_1']\n",
        "df_3 = oda_sayisi['df_0']\n",
        "df_4 = hane_halki_sorumlsunun_yaşina_göre['df_0']\n",
        "df_5 = ailenin_çocuk_sayisi['df_4']\n",
        "df_6 = hane_halki_buyukluğu['df_5']\n",
        "\n",
        "\n",
        "# combining data frames\n",
        "df_combined = pd.concat([df_0, df_1, df_2, df_3, df_4,df_6,df_7,df_8,df_9])\n",
        "\n",
        "# setting the X Y values\n",
        "X = df_5['year'].values.reshape(-1, 1)\n",
        "y = df_5['money'].values.reshape(-1, 1)\n",
        "\n",
        "# creating the linear regression model\n",
        "regressor = LinearRegression()\n",
        "regressor.fit(X, y)\n",
        "\n",
        "# making the predicitons\n",
        "y_pred = regressor.predict(X)\n",
        "\n",
        "# plotting the graph\n",
        "plt.scatter(X, y, label='Data')\n",
        "plt.plot(X, y_pred, color='red', linewidth=2)\n",
        "\n",
        "plt.xlabel('Year')\n",
        "plt.ylabel('money')\n",
        "plt.title('Linear Regression Model for the lower socioeconomic level')\n",
        "\n",
        "# removing fractional values\n",
        "plt.xticks([int(x) for x in plt.xticks()[0]])\n",
        "\n",
        "plt.legend()\n",
        "plt.show()\n",
        "\n",
        "\n",
        "\n",
        "mse1 = mean_squared_error(y, y_pred)\n",
        "\n",
        "\n",
        "# Normalized MSE calculation\n",
        "variance = y.var()\n",
        "normalized_mse = mse1 / variance\n",
        "print(\"Normalized MSE calculation\", normalized_mse)"
      ],
      "metadata": {
        "colab": {
          "base_uri": "https://localhost:8080/",
          "height": 504
        },
        "id": "q9OlK1NrU1Qk",
        "outputId": "dd9dfc72-06bd-47cb-9e14-321303aeeb5a"
      },
      "execution_count": 17,
      "outputs": [
        {
          "output_type": "display_data",
          "data": {
            "text/plain": [
              "<Figure size 640x480 with 1 Axes>"
            ],
            "image/png": "[encoded data removed]"
          },
          "metadata": {}
        },
        {
          "output_type": "stream",
          "name": "stdout",
          "text": [
            "Normalized MSE calculation 0.051843858433598594\n"
          ]
        }
      ]
    },
    {
      "cell_type": "markdown",
      "source": [
        "# Training Dataset to Medium Level Of Socio-Economic conditions"
      ],
      "metadata": {
        "id": "yN8Xd_o3dc75"
      }
    },
    {
      "cell_type": "code",
      "source": [
        "import pandas as pd\n",
        "import matplotlib.pyplot as plt\n",
        "from sklearn.linear_model import LinearRegression\n",
        "from sklearn.metrics import mean_squared_error\n",
        "\n",
        "#assigns different data frames to variables.\n",
        "df_0 = egitim_tutun_durum['df_3'] #education status: High School\n",
        "\n",
        "df_1 = isteki_durumu['df_1'] #daily labor\n",
        "df_7= isteki_durumu['df_0']  #regular wage earners\n",
        "\n",
        "df_2 = yuzdelik_gelir['df_1']\n",
        "\n",
        "df_3 = oda_sayisi['df_2']\n",
        "df_4 = hane_halki_sorumlsunun_yaşina_göre['df_0']\n",
        "df_5 = ailenin_çocuk_sayisi['df_2']\n",
        "df_5 = ailenin_çocuk_sayisi['df_3']\n",
        "df_6 = hane_halki_buyukluğu['df_4']\n",
        "df_8 = hane_halki_buyukluğu['df_3']\n",
        "\n",
        "df_1 = isteki_durumu['df_3'] #give a control variable to check which is employers\n",
        "# combine the dataframes\n",
        "df_combined = pd.concat([df_0, df_1, df_2, df_3, df_4,df_6,df_7,df_8])  #give a control variable to check\n",
        "# Determine the X and Y values\n",
        "X = df_1['year'].values.reshape(-1, 1)\n",
        "y = df_1['money'].values.reshape(-1, 1)\n",
        "# Form a linear Regression Model\n",
        "regressor = LinearRegression()\n",
        "regressor.fit(X, y)\n",
        "\n",
        "# Make the predict\n",
        "y_pred = regressor.predict(X)\n",
        "\n",
        "# Plotting the values\n",
        "plt.scatter(X, y, label='Veri')\n",
        "plt.plot(X, y_pred, color='red', linewidth=2)\n",
        "\n",
        "plt.xlabel('Year')\n",
        "plt.ylabel('Money spent on cigarette')\n",
        "plt.title(' Linear Regression Model for Medium Level Of Socio-Economic class')\n",
        "\n",
        "# Removing fractional values\n",
        "plt.xticks([int(x) for x in plt.xticks()[0]])\n",
        "\n",
        "plt.legend()\n",
        "plt.show()\n",
        "\n",
        "\n",
        "\n",
        "mse = mean_squared_error(y, y_pred)\n",
        "\n",
        "# Normalize the mean square, since the values that we've working, the value will be bigger and not realistic.\n",
        "variance = y.var()\n",
        "normalized_mse = mse / variance\n",
        "print(\"Normalized MSE value:\", normalized_mse)"
      ],
      "metadata": {
        "colab": {
          "base_uri": "https://localhost:8080/",
          "height": 504
        },
        "id": "0fuOUuTMNmKI",
        "outputId": "f77d0ddb-cbbe-4f08-aa80-2cede3be7a02"
      },
      "execution_count": 30,
      "outputs": [
        {
          "output_type": "display_data",
          "data": {
            "text/plain": [
              "<Figure size 640x480 with 1 Axes>"
            ],
            "image/png": "[encoded data removed]"
          },
          "metadata": {}
        },
        {
          "output_type": "stream",
          "name": "stdout",
          "text": [
            "Normalized MSE value: 0.09325288929914272\n"
          ]
        }
      ]
    },
    {
      "cell_type": "code",
      "source": [
        "import pandas as pd\n",
        "import matplotlib.pyplot as plt\n",
        "from sklearn.linear_model import LinearRegression\n",
        "from sklearn.metrics import mean_squared_error\n",
        "\n",
        "#assigns different data frames to variables.\n",
        "df_0 = egitim_tutun_durum['df_3'] #education status: High School\n",
        "\n",
        "df_1 = isteki_durumu['df_1'] #daily labor\n",
        "df_7= isteki_durumu['df_0']  #regular wage earners\n",
        "\n",
        "df_2 = yuzdelik_gelir['df_1']\n",
        "\n",
        "df_3 = oda_sayisi['df_2']\n",
        "df_4 = hane_halki_sorumlsunun_yaşina_göre['df_0']\n",
        "df_5 = ailenin_çocuk_sayisi['df_2']\n",
        "df_5 = ailenin_çocuk_sayisi['df_3']\n",
        "df_6 = hane_halki_buyukluğu['df_4']\n",
        "df_8 = hane_halki_buyukluğu['df_3']\n",
        "\n",
        "\n",
        "# combine the dataframes\n",
        "df_combined = pd.concat([df_0, df_1, df_2, df_3, df_4,df_6,df_7,df_8])  #give a control variable to check\n",
        "# Determine the X and Y values\n",
        "X = df_1['year'].values.reshape(-1, 1)\n",
        "y = df_1['money'].values.reshape(-1, 1)\n",
        "# Form a linear Regression Model\n",
        "regressor = LinearRegression()\n",
        "regressor.fit(X, y)\n",
        "\n",
        "# Make the predict\n",
        "y_pred = regressor.predict(X)\n",
        "\n",
        "# Plotting the values\n",
        "plt.scatter(X, y, label='Veri')\n",
        "plt.plot(X, y_pred, color='red', linewidth=2)\n",
        "\n",
        "plt.xlabel('Year')\n",
        "plt.ylabel('Money spent on cigarette')\n",
        "plt.title(' Linear Regression Model for Medium Level Of Socio-Economic class')\n",
        "\n",
        "# Removing fractional values\n",
        "plt.xticks([int(x) for x in plt.xticks()[0]])\n",
        "\n",
        "plt.legend()\n",
        "plt.show()\n",
        "\n",
        "\n",
        "\n",
        "mse = mean_squared_error(y, y_pred)\n",
        "\n",
        "# Normalize the mean square, since the values that we've working, the value will be bigger and not realistic.\n",
        "variance = y.var()\n",
        "normalized_mse = mse / variance\n",
        "print(\"Normalized MSE value:\", normalized_mse)"
      ],
      "metadata": {
        "colab": {
          "base_uri": "https://localhost:8080/",
          "height": 504
        },
        "id": "UNe8G-CLaaEN",
        "outputId": "1f7e7470-1a09-4d58-c09b-3c96e6a6f30a"
      },
      "execution_count": 19,
      "outputs": [
        {
          "output_type": "display_data",
          "data": {
            "text/plain": [
              "<Figure size 640x480 with 1 Axes>"
            ],
            "image/png": "[encoded data removed]"
          },
          "metadata": {}
        },
        {
          "output_type": "stream",
          "name": "stdout",
          "text": [
            "Normalized MSE value: 0.05982928677877127\n"
          ]
        }
      ]
    },
    {
      "cell_type": "markdown",
      "source": [
        "As we cann see in the above, we combined the different dataframes which were appropriate for the medium socio-economic level of classes. In the first try, we added a control variable to the combination which is df_1, means that ,from observations of the excel file, the job status is being an employer. Which is a closer aspect to the upper socio-economic level of classes. The difference in between the first and the second try was the MSE value. In the first one, it was 0.09 and the second one was 0.59. Because in this section we trained the data for medium class, when when we tried a upper class' aspect, the error value started to increase, as we expected."
      ],
      "metadata": {
        "id": "fnnyahwhfZEm"
      }
    },
    {
      "cell_type": "markdown",
      "source": [
        "# Training for The Upper Level of Socio-Economic conditions\n",
        "\n"
      ],
      "metadata": {
        "id": "B7b7WXztdsKQ"
      }
    },
    {
      "cell_type": "code",
      "source": [
        "import pandas as pd\n",
        "import matplotlib.pyplot as plt\n",
        "from sklearn.linear_model import LinearRegression\n",
        "from sklearn.metrics import mean_squared_error\n",
        "#upperclass\n",
        "\n",
        "#data frames \n",
        "#education status: university and masters degree\n",
        "df_0 = egitim_tutun_durum['df_4']\n",
        "df_7 = egitim_tutun_durum['df_5']\n",
        "\n",
        "df_1 = isteki_durumu['df_3'] # job status: employer\n",
        "df_8 = isteki_durumu['df_4'] #job status:job owners\n",
        "\n",
        "df_2 = yuzdelik_gelir['df_0']#first 20% \n",
        "\n",
        "df_3 = oda_sayisi['df_3'] #number of rooms:4\n",
        "df_9 = oda_sayisi['df_4'] #number of rooms:5+\n",
        "\n",
        "df_4 = hane_halki_sorumlsunun_yaşina_göre['df_2']#the breadwinner is between the ages of 44-65\n",
        "\n",
        "df_5 = ailenin_çocuk_sayisi['df_0']#one person family\n",
        "df_10 = ailenin_çocuk_sayisi['df_1']#only spouses\n",
        "\n",
        "df_6 = hane_halki_buyukluğu['df_0']\n",
        "df_11 = hane_halki_buyukluğu['df_1']\n",
        "\n",
        "\n",
        "# combining data frames\n",
        "df_combined = pd.concat([df_0, df_1, df_2, df_3,df_4,df_5, df_6,df_7,df_8,df_9,df_10,df_11])\n",
        "\n",
        "# setting the X Y values\n",
        "X = df_0['year'].values.reshape(-1, 1)\n",
        "y = df_0['money'].values.reshape(-1, 1)\n",
        "# creating the linear regression model\n",
        "regressor = LinearRegression()\n",
        "regressor.fit(X, y)\n",
        "\n",
        "# making the predicitons\n",
        "y_pred = regressor.predict(X)\n",
        "\n",
        "# plotting the graph\n",
        "plt.scatter(X, y, label='Data')\n",
        "plt.plot(X, y_pred, color='red', linewidth=2)\n",
        "\n",
        "plt.xlabel('Year')\n",
        "plt.ylabel('Money')\n",
        "plt.title('Linear regression model for the upperclass')\n",
        "\n",
        "# removing fractional values\n",
        "plt.xticks([int(x) for x in plt.xticks()[0]])\n",
        "\n",
        "plt.legend()\n",
        "plt.show()\n",
        "\n",
        "\n",
        "\n",
        "mse = mean_squared_error(y, y_pred)\n",
        "\n",
        "\n",
        "# Normalized MSE calculation\n",
        "\n",
        "variance = y.var()\n",
        "normalized_mse = mse / variance\n",
        "print(\"Normalized MSE calculation\", normalized_mse)"
      ],
      "metadata": {
        "colab": {
          "base_uri": "https://localhost:8080/",
          "height": 489
        },
        "id": "doy06aLoGQ_K",
        "outputId": "839d4056-7529-4dd5-83e3-88e8cb084ab0"
      },
      "execution_count": 20,
      "outputs": [
        {
          "output_type": "display_data",
          "data": {
            "text/plain": [
              "<Figure size 640x480 with 1 Axes>"
            ],
            "image/png": "[encoded data removed]"
          },
          "metadata": {}
        },
        {
          "output_type": "stream",
          "name": "stdout",
          "text": [
            "Normalized MSE calculation 0.1490479717988151\n"
          ]
        }
      ]
    },
    {
      "cell_type": "code",
      "source": [
        "import pandas as pd\n",
        "import matplotlib.pyplot as plt\n",
        "from sklearn.linear_model import LinearRegression\n",
        "from sklearn.metrics import mean_squared_error\n",
        "#upperclass\n",
        "\n",
        "#data frames \n",
        "#education status: university and masters degree\n",
        "df_0 = egitim_tutun_durum['df_4']\n",
        "df_7 = egitim_tutun_durum['df_5']\n",
        "\n",
        "df_1 = isteki_durumu['df_3'] # job status: employer\n",
        "df_8 = isteki_durumu['df_4'] #job status:job owners\n",
        "df_2 = yuzdelik_gelir['df_0']#first 20% \n",
        "\n",
        "df_3 = oda_sayisi['df_3'] #number of rooms:4\n",
        "df_9 = oda_sayisi['df_4'] #number of rooms:5+\n",
        "\n",
        "df_4 = hane_halki_sorumlsunun_yaşina_göre['df_1']#the breadearner between the ages of 25-44\n",
        "df_5 = ailenin_çocuk_sayisi['df_0']#one person family\n",
        "df_10 = ailenin_çocuk_sayisi['df_1']#only spouses\n",
        "\n",
        "df_6 = hane_halki_buyukluğu['df_0']\n",
        "df_11 = hane_halki_buyukluğu['df_1']\n",
        " \n",
        "\n",
        "df_0 = egitim_tutun_durum['df_1'] #adding illiterate people to test\n",
        "# combining data frames\n",
        "df_combined = pd.concat([df_0, df_1, df_2, df_3, df_4,df_6,df_7,df_8,df_9,df_10,df_11])\n",
        "\n",
        "# setting the X Y values\n",
        "X = df_0['year'].values.reshape(-1, 1)\n",
        "y = df_0['money'].values.reshape(-1, 1)\n",
        "# creating the linear regression model\n",
        "regressor = LinearRegression()\n",
        "regressor.fit(X, y)\n",
        "\n",
        "\n",
        "# making the predicitons\n",
        "y_pred = regressor.predict(X)\n",
        "\n",
        "# plotting the graph\n",
        "plt.scatter(X, y, label='Data')\n",
        "plt.plot(X, y_pred, color='red', linewidth=2)\n",
        "\n",
        "plt.xlabel('Year')\n",
        "plt.ylabel('Money')\n",
        "plt.title('Upperclass regression model')\n",
        "\n",
        "# removing fractional values\n",
        "plt.xticks([int(x) for x in plt.xticks()[0]])\n",
        "\n",
        "plt.legend()\n",
        "plt.show()\n",
        "\n",
        "\n",
        "\n",
        "mse2 = mean_squared_error(y, y_pred)\n",
        "\n",
        "\n",
        "# Normalized MSE calculation\n",
        "variance = y.var()\n",
        "normalized_mse = mse2 / variance\n",
        "print(\"Normalized MSE calculation\", normalized_mse)"
      ],
      "metadata": {
        "colab": {
          "base_uri": "https://localhost:8080/",
          "height": 489
        },
        "id": "LYX5x2swcRuY",
        "outputId": "b91b7053-c322-4da2-fe2d-d668a9df6863"
      },
      "execution_count": 24,
      "outputs": [
        {
          "output_type": "display_data",
          "data": {
            "text/plain": [
              "<Figure size 640x480 with 1 Axes>"
            ],
            "image/png": "[encoded data removed]"
          },
          "metadata": {}
        },
        {
          "output_type": "stream",
          "name": "stdout",
          "text": [
            "Normalized MSE calculation 0.05327063841928567\n"
          ]
        }
      ]
    },
    {
      "cell_type": "markdown",
      "source": [
        "From the two graphs for upperclass above it can be seen that the second one is a better fit. It has a smaller normalized MSE, indicating that it has a better fit or is more accurate in predicting. Therefore, adding a variable closer to the middle level of social economic class is better. "
      ],
      "metadata": {
        "id": "n6uDfiO6hx6h"
      }
    },
    {
      "cell_type": "markdown",
      "source": [
        "# Reject The Null Hypothesis"
      ],
      "metadata": {
        "id": "yZfvzVAhgmPV"
      }
    },
    {
      "cell_type": "markdown",
      "source": [
        "As you can see, when we train the data for each separate class and experiment with other class features, the value of error increases. This helps us reject the null hypothesis and accept the alternative hypothesis."
      ],
      "metadata": {
        "id": "JS-cyQX0gspB"
      }
    }
  ],
  "metadata": {
    "kernelspec": {
      "display_name": "Python 3",
      "language": "python",
      "name": "python3"
    },
    "language_info": {
      "codemirror_mode": {
        "name": "ipython",
        "version": 3
      },
      "file_extension": ".py",
      "mimetype": "text/x-python",
      "name": "python",
      "nbconvert_exporter": "python",
      "pygments_lexer": "ipython3",
      "version": "3.11.3"
    },
    "orig_nbformat": 4,
    "colab": {
      "provenance": []
    }
  },
  "nbformat": 4,
  "nbformat_minor": 0
}